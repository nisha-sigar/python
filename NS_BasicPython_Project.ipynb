{
 "cells": [
  {
   "cell_type": "markdown",
   "id": "9eb570b1",
   "metadata": {},
   "source": [
    "# Basic Python 101"
   ]
  },
  {
   "cell_type": "markdown",
   "id": "f0784c26",
   "metadata": {},
   "source": [
    "Create String that called x that contains the sentence `my name is Nisha` and run the string"
   ]
  },
  {
   "cell_type": "code",
   "execution_count": 2,
   "id": "1edafa47",
   "metadata": {},
   "outputs": [
    {
     "name": "stdout",
     "output_type": "stream",
     "text": [
      "my name is Nisha\n"
     ]
    }
   ],
   "source": [
    "x = \"my name is Nisha\"\n",
    "print(x)"
   ]
  },
  {
   "cell_type": "markdown",
   "id": "e7c0af0f",
   "metadata": {},
   "source": [
    "Assign any `int` value to a variable we call `x`. Then use the `assignment operators` to reassign the value of `x` by carrying out the following steps:\n",
    "\n",
    "1. Double the variable `x`\n",
    "2. Add 6 to the variable `x`\n",
    "3. Divide the variable `x` by 2\n",
    "4. Subtract your initial value from `x`"
   ]
  },
  {
   "cell_type": "code",
   "execution_count": 3,
   "id": "54323a63",
   "metadata": {},
   "outputs": [
    {
     "name": "stdout",
     "output_type": "stream",
     "text": [
      "4\n"
     ]
    }
   ],
   "source": [
    "x = 5\n",
    "x = x*2\n",
    "x = x+8\n",
    "x = x // 2\n",
    "x = x-5\n",
    "print(x)"
   ]
  },
  {
   "cell_type": "markdown",
   "id": "62642842",
   "metadata": {},
   "source": []
  }
 ],
 "metadata": {
  "kernelspec": {
   "display_name": "Python 3",
   "language": "python",
   "name": "python3"
  },
  "language_info": {
   "codemirror_mode": {
    "name": "ipython",
    "version": 3
   },
   "file_extension": ".py",
   "mimetype": "text/x-python",
   "name": "python",
   "nbconvert_exporter": "python",
   "pygments_lexer": "ipython3",
   "version": "3.8.8"
  }
 },
 "nbformat": 4,
 "nbformat_minor": 5
}
